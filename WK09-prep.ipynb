{
 "cells": [
  {
   "cell_type": "markdown",
   "metadata": {},
   "source": [
    "# WK09 Prep"
   ]
  },
  {
   "cell_type": "code",
   "execution_count": null,
   "metadata": {},
   "outputs": [],
   "source": [
    "!wget -q https://github.com/DM-GY-9103-2024F-H/9103-utils/raw/main/src/data_utils.py"
   ]
  },
  {
   "cell_type": "code",
   "execution_count": null,
   "metadata": {},
   "outputs": [],
   "source": [
    "import matplotlib.pyplot as plt\n",
    "import pandas as pd\n",
    "\n",
    "from sklearn.decomposition import PCA\n",
    "\n",
    "from data_utils import StandardScaler\n",
    "from data_utils import object_from_json_url"
   ]
  },
  {
   "cell_type": "markdown",
   "metadata": {},
   "source": [
    "# Classification / Clustering"
   ]
  },
  {
   "cell_type": "code",
   "execution_count": null,
   "metadata": {},
   "outputs": [],
   "source": [
    "## 1. Load Dataset\n",
    "WINE_FILE = \"https://raw.githubusercontent.com/DM-GY-9103-2024F-H/9103-utils/main/datasets/json/wines.json\"\n",
    "\n",
    "# Read into DataFrame\n",
    "wines_data = object_from_json_url(WINE_FILE)\n",
    "wines_df = pd.DataFrame.from_records(wines_data)\n",
    "\n",
    "## 3. Normalize\n",
    "wine_scaler = StandardScaler()\n",
    "wines_scaled = wine_scaler.fit_transform(wines_df)\n",
    "\n",
    "features = wines_scaled.drop(columns=[\"quality\"])\n",
    "wines_scaled.cov()[\"quality\"].sort_values()"
   ]
  },
  {
   "cell_type": "code",
   "execution_count": null,
   "metadata": {},
   "outputs": [],
   "source": [
    "wine_pca = PCA()\n",
    "wines_pcad = wine_pca.fit_transform(features.values)"
   ]
  },
  {
   "cell_type": "code",
   "execution_count": null,
   "metadata": {},
   "outputs": [],
   "source": [
    "colors = ['#1f77b4', '#ff7f0e', '#2ca02c', '#d62728', '#9467bd', '#8c564b', '#e377c2', '#7f7f7f', '#bcbd22', '#17becf']"
   ]
  },
  {
   "cell_type": "code",
   "execution_count": null,
   "metadata": {},
   "outputs": [],
   "source": [
    "x = features[\"alcohol\"].values\n",
    "y = features[\"density\"].values\n",
    "c = [colors[int(i)] for i in wines_scaled[\"quality\"].values]\n",
    "\n",
    "plt.scatter(x, y, color=c, marker='o', linestyle='', alpha=0.7)\n",
    "plt.show()"
   ]
  },
  {
   "cell_type": "code",
   "execution_count": null,
   "metadata": {},
   "outputs": [],
   "source": [
    "x = wines_pcad[:, 0]\n",
    "y = wines_pcad[:, 1]\n",
    "c = [colors[int(i)] for i in wines_scaled[\"quality\"].values]\n",
    "\n",
    "# Plot the PCAs\n",
    "plt.scatter(x, y, color=c, marker='o', linestyle='', alpha=0.7)\n",
    "plt.show()"
   ]
  },
  {
   "cell_type": "code",
   "execution_count": null,
   "metadata": {},
   "outputs": [],
   "source": [
    "from sklearn.cluster import KMeans\n",
    "\n",
    "## 5. Create a KMeans object\n",
    "km_model = KMeans(n_clusters=4, n_init=10)\n",
    "\n",
    "# Create a model that tries to group wines by features\n",
    "result = km_model.fit(features.values)\n",
    "\n",
    "## 6. Run the model on the training data\n",
    "predicted_scaled = km_model.predict(features.values)"
   ]
  },
  {
   "cell_type": "code",
   "execution_count": null,
   "metadata": {},
   "outputs": [],
   "source": [
    "x = features[\"alcohol\"].values\n",
    "y = features[\"density\"].values\n",
    "c = [colors[i] for i in predicted_scaled]\n",
    "\n",
    "plt.scatter(x, y, color=c, marker='o', linestyle='', alpha=0.5)\n",
    "plt.xlim(-2,3)\n",
    "plt.ylim(-2,3)\n",
    "plt.show()"
   ]
  },
  {
   "cell_type": "code",
   "execution_count": null,
   "metadata": {},
   "outputs": [],
   "source": [
    "x = wines_pcad[:, 0]\n",
    "y = wines_pcad[:, 1]\n",
    "c = [colors[i] for i in predicted_scaled]\n",
    "\n",
    "# Plot the PCAs\n",
    "plt.scatter(x, y, color=c, marker='o', linestyle='', alpha=0.5)\n",
    "plt.xlim(-4,4)\n",
    "plt.ylim(-4,4)\n",
    "plt.show()\n"
   ]
  },
  {
   "cell_type": "markdown",
   "metadata": {},
   "source": [
    "# Iris"
   ]
  },
  {
   "cell_type": "code",
   "execution_count": null,
   "metadata": {},
   "outputs": [],
   "source": [
    "from sklearn import datasets\n",
    "iris = datasets.load_iris()\n",
    "X_reduced = PCA(n_components=3).fit_transform(iris.data)"
   ]
  },
  {
   "cell_type": "code",
   "execution_count": null,
   "metadata": {},
   "outputs": [],
   "source": [
    "x = iris.data[:, 0]\n",
    "y = iris.data[:, 1]\n",
    "c = [colors[int(i)] for i in iris.target]\n",
    "\n",
    "plt.scatter(x, y, color=c, marker='o', linestyle='', alpha=0.5)\n",
    "plt.show()"
   ]
  },
  {
   "cell_type": "code",
   "execution_count": null,
   "metadata": {},
   "outputs": [],
   "source": [
    "x = X_reduced[:, 0]\n",
    "y = X_reduced[:, 1]\n",
    "c = [colors[int(i)] for i in iris.target]\n",
    "\n",
    "\n",
    "plt.figure(figsize=(9, 6.75), dpi=150)\n",
    "plt.scatter(x, y, color=colors[0], marker='o', linestyle='', alpha=0.7)\n",
    "plt.xlabel(\"petal length\")\n",
    "plt.ylabel(\"petal width\")\n",
    "plt.show()\n",
    "\n",
    "plt.figure(figsize=(9, 6.75), dpi=150)\n",
    "plt.scatter(x, y, color=c, marker='o', linestyle='', alpha=0.7)\n",
    "plt.xlabel(\"petal length\")\n",
    "plt.ylabel(\"petal width\")\n",
    "plt.show()"
   ]
  }
 ],
 "metadata": {
  "kernelspec": {
   "display_name": "9103",
   "language": "python",
   "name": "python3"
  },
  "language_info": {
   "codemirror_mode": {
    "name": "ipython",
    "version": 3
   },
   "file_extension": ".py",
   "mimetype": "text/x-python",
   "name": "python",
   "nbconvert_exporter": "python",
   "pygments_lexer": "ipython3",
   "version": "3.10.13"
  }
 },
 "nbformat": 4,
 "nbformat_minor": 2
}
